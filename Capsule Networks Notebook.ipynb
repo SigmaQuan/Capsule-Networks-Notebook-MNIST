{
 "cells": [
  {
   "cell_type": "code",
   "execution_count": 15,
   "metadata": {
    "collapsed": false
   },
   "outputs": [
    {
     "name": "stdout",
     "output_type": "stream",
     "text": [
      "\n"
     ]
    }
   ],
   "source": [
    "\"\"\"\n",
    "Dynamic Routing Between Capsules\n",
    "https://arxiv.org/abs/1710.09829\n",
    "\n",
    "Heavily inspired from implementation by Kenta Iwasaki @ Gram.AI.\n",
    "\n",
    "\"\"\"\n",
    "\n",
    "import torch\n",
    "import torch.nn.functional as F\n",
    "from torch import nn\n",
    "from torch.autograd import Variable\n",
    "from torch.optim import Adam\n",
    "from torchvision.datasets.mnist import MNIST\n",
    "import numpy as np\n",
    "import matplotlib.pyplot as plt\n",
    "%matplotlib inline\n",
    "\n",
    "# device_id.\n",
    "gpu = 2"
   ]
  },
  {
   "cell_type": "markdown",
   "metadata": {},
   "source": [
    "<p><b>NOTE:</b><br>\n",
    "All thanks to Mr. Kenta (seriously). However, I've made certain changes to speed up the code a little, and make the code more in line with the paper.</p>\n",
    "<p> Also, this notebook only talks about the classification portion, not the reconstruction. </p> <br>\n",
    "Basically, there are 3 layers.\n",
    "<ul>\n",
    "<li>Convolution Layer</li>\n",
    "<li>Convolution Capsule Layer (PrimaryCaps)</li>\n",
    "<li>Capsule Layer (DigitCaps) </li>\n",
    "</ul>\n",
    "\n",
    "<img src = \"images/arch.png\">\n",
    "\n",
    "Let's look at this one by one."
   ]
  },
  {
   "cell_type": "markdown",
   "metadata": {},
   "source": [
    "##### Capsule Convolutional Layer"
   ]
  },
  {
   "cell_type": "code",
   "execution_count": 5,
   "metadata": {
    "collapsed": false
   },
   "outputs": [],
   "source": [
    "class ConvCaps2D(nn.Module):\n",
    "    def __init__(self):\n",
    "        super(ConvCaps2D, self).__init__()\n",
    "        # The paper suggests having 32 8D capsules\n",
    "        self.capsules = nn.ModuleList([nn.Conv2d(in_channels = 256, out_channels = 8, kernel_size=9, stride=2)\n",
    "                                       for _ in range(32)])\n",
    "        \n",
    "    def squash(self, tensor, dim=-1):\n",
    "        norm = (tensor**2).sum(dim=dim, keepdim = True) # norm.size() is (None, 1152, 1)\n",
    "        scale = norm / (1 + norm) # scale.size()  is (None, 1152, 1)  \n",
    "        return scale*tensor / torch.sqrt(norm)\n",
    "        \n",
    "    def forward(self, x):\n",
    "        outputs = [capsule(x).view(x.size(0), 8, -1) for capsule in self.capsules] # 32 list of (None, 1, 8, 36)\n",
    "        outputs = torch.cat(outputs, dim = 2).permute(0, 2, 1)  # outputs.size() is (None, 1152, 8)\n",
    "        return self.squash(outputs)"
   ]
  },
  {
   "cell_type": "markdown",
   "metadata": {},
   "source": [
    "##### DigitCaps Layer\n",
    "Most important thing here is the routing by agreement portion. I've used same variables as in the paper. <br>\n",
    "<img src = 'images/form1.png' style = \"width:400px;\"><img src = 'images/form2.png' style = \"width:250px;\"><br>\n",
    "<img src = 'images/alg1.png' style = \"float:left\">"
   ]
  },
  {
   "cell_type": "code",
   "execution_count": 17,
   "metadata": {
    "collapsed": false
   },
   "outputs": [],
   "source": [
    "class Caps1D(nn.Module):\n",
    "    def __init__(self):\n",
    "        super(Caps1D, self).__init__()\n",
    "        self.num_caps = 10\n",
    "        self.num_iterations = 3\n",
    "        self.W = nn.Parameter(torch.randn(10, 1152, 8, 16))\n",
    "        \n",
    "    def softmax(self, x, dim = 1):\n",
    "        transposed_input = x.transpose(dim, len(x.size()) - 1)\n",
    "        softmaxed_output = F.softmax(transposed_input.contiguous().view(-1, transposed_input.size(-1)))\n",
    "        return softmaxed_output.view(*transposed_input.size()).transpose(dim, len(x.size()) - 1)\n",
    "\n",
    "    def squash(self, tensor, dim=-1):\n",
    "        norm = (tensor**2).sum(dim=dim, keepdim = True) # norm.size() is (None, 1152, 1)\n",
    "        scale = norm / (1 + norm)        \n",
    "        return scale*tensor / torch.sqrt(norm)\n",
    "   \n",
    "    # Routing algorithm\n",
    "    def forward(self, u):\n",
    "        # u.size() is (None, 1152, 8)\n",
    "        '''\n",
    "        From documentation\n",
    "        For example, if tensor1 is a j x 1 x n x m Tensor and tensor2 is a k x m x p Tensor, \n",
    "        out will be an j x k x n x p Tensor.\n",
    "        \n",
    "        We need j = None, 1, n = 1152, k = 10, m = 8, p = 16\n",
    "        '''\n",
    "        \n",
    "        u_ji = torch.matmul(u[:, None, :, None, :], self.W) # u_ji.size() is (None, 10, 1152, 1, 16)\n",
    "        \n",
    "        b = Variable(torch.zeros(u_ji.size())).cuda(gpu) # b.size() is (None, 10, 1152, 1, 16)\n",
    "        \n",
    "        for i in range(self.num_iterations):\n",
    "            c = self.softmax(b, dim=2)\n",
    "            v = self.squash((c * u_ji).sum(dim=2, keepdim=True)) # v.size() is (None, 10, 1, 1, 16)\n",
    "\n",
    "            if i != self.num_iterations - 1:\n",
    "                delta_b = (u_ji * v).sum(dim=-1, keepdim=True)\n",
    "                b = b + delta_b\n",
    "        \n",
    "        # Now we simply compute the length of the vectors and take the softmax to get probability.\n",
    "        v = v.squeeze()\n",
    "        classes = (v ** 2).sum(dim=-1) ** 0.5\n",
    "        classes = F.softmax(classes)\n",
    "        \n",
    "        return classes"
   ]
  },
  {
   "cell_type": "markdown",
   "metadata": {},
   "source": [
    "##### Capsule Network\n",
    "Now we just put together all of the above code."
   ]
  },
  {
   "cell_type": "code",
   "execution_count": 18,
   "metadata": {
    "collapsed": false
   },
   "outputs": [],
   "source": [
    "class CapsNet(nn.Module):\n",
    "    def __init__(self):\n",
    "        super(CapsNet, self).__init__()\n",
    "        \n",
    "        self.conv1 = nn.Conv2d(in_channels = 1, out_channels = 256, kernel_size = 9, stride = 1)\n",
    "        \n",
    "        self.primaryCaps = ConvCaps2D()\n",
    "        self.digitCaps = Caps1D()\n",
    "        \n",
    "        \n",
    "    def forward(self, x):\n",
    "        x = F.relu(self.conv1(x))\n",
    "        x = self.primaryCaps(x)\n",
    "        x = self.digitCaps(x)\n",
    "        \n",
    "        return x\n",
    "\n",
    "net = CapsNet().cuda(gpu)\n",
    "# out = net.forward(Variable(torch.from_numpy(np.random.rand(32, 1, 28, 28).astype('float32')).cuda(gpu)))"
   ]
  },
  {
   "cell_type": "code",
   "execution_count": 19,
   "metadata": {
    "collapsed": true
   },
   "outputs": [],
   "source": [
    "import torch.optim as optim\n",
    "criterion = nn.CrossEntropyLoss()\n",
    "optimizer = optim.Adam(net.parameters())"
   ]
  },
  {
   "cell_type": "code",
   "execution_count": 20,
   "metadata": {
    "collapsed": true
   },
   "outputs": [],
   "source": [
    "def evaluate(model, X, Y, batch_size = 50):\n",
    "    results = []\n",
    "    predicted = []\n",
    "    \n",
    "    for i in range(len(X)/batch_size):\n",
    "        s = i*batch_size\n",
    "        e = i*batch_size+batch_size\n",
    "        \n",
    "        inputs = Variable(torch.from_numpy(X[s:e]).cuda(gpu))\n",
    "        pred = model(inputs)\n",
    "        \n",
    "        predicted += list(np.argmax(pred.data.cpu().numpy(), axis = 1))\n",
    "        \n",
    "    acc = sum(Y == predicted)*1.0/(len(Y))\n",
    "    return acc"
   ]
  },
  {
   "cell_type": "markdown",
   "metadata": {},
   "source": [
    "Load the data"
   ]
  },
  {
   "cell_type": "code",
   "execution_count": 21,
   "metadata": {
    "collapsed": false
   },
   "outputs": [],
   "source": [
    "dataset = MNIST(root='./data', download=True, train=True)\n",
    "\n",
    "X_train = np.expand_dims(getattr(dataset, 'train_data').numpy().astype('float32'), 1)/255.0\n",
    "y_train = getattr(dataset, 'train_labels').numpy().astype('int64')\n",
    "\n",
    "indices = np.random.permutation(len(X_train))\n",
    "X_train = X_train[indices]\n",
    "y_train = y_train[indices]\n",
    "\n",
    "dataset = MNIST(root='./data', download=True, train=False)\n",
    "\n",
    "X_test = np.expand_dims(getattr(dataset, 'test_data').numpy().astype('float32'), 1)/255.0\n",
    "y_test = getattr(dataset, 'test_labels').numpy().astype('int64')\n",
    "\n",
    "indices = np.random.permutation(len(X_test))\n",
    "X_test = X_test[indices]\n",
    "y_test = y_test[indices]"
   ]
  },
  {
   "cell_type": "code",
   "execution_count": null,
   "metadata": {
    "collapsed": false
   },
   "outputs": [
    {
     "name": "stdout",
     "output_type": "stream",
     "text": [
      "\n",
      "Epoch  0\n",
      "Mini-batch :  0 1 2 3 4 5 6 7 8 9 10 11 12 13 14 15 16 17 18 19 20 21 22 23 24 25 26 27 28 29 30 31 32 33 34 35 36 37 38 39 40 41 42 43 44 45 46 47 48 49 50 51 52 53 54 55 56 57 58 59 60 61 62 63 64 65 66 67 68 69 70 71 72 73 74 75 76 77 78 79 80 81 82 83 84 85 86 87 88 89 90 91 92 93 94 95 96 97 98 99 100 101 102 103 104 105 106 107 108 109 110 111 112 113 114 115 116 117 118 119 120 121 122 123 124 125 126 127 128 129 130 131 132 133 134 135 136 137 138 139 140 141 142 143 144 145 146 147 148 149 150 151 152 153 154 155 156 157 158 159 160 161 162 163 164 165 166 167 168 169 170 171 172 173 174 175 176 177 178 179 180 181 182 183 184 185 186 187 188 189 190 191 192 193 194 195 196 197 198 199 200 201 202 203 204 205 206 207 208 209 210 211 212 213 214 215 216 217 218 219 220 221 222 223 224 225 226 227 228 229 230 231 232 233 234 235 236 237 238 239 240 241 242 243 244 245 246 247 248 249 250 251 252 253 254 255 256 257 258 259 260 261 262 263 264 265 266 267 268 269 270 271 272 273 274 275 276 277 278 279 280 281 282 283 284 285 286 287 288 289 290 291 292 293 294 295 296 297 298 299 Epoch, Loss - 0, 659.706069469\n",
      "Train -  0.976\n",
      "Test -  0.982\n",
      "\n",
      "Epoch  1\n",
      "Mini-batch :  0 1 2 3 4 5 6 7 8 9 10 11 12 13 14 15 16 17 18 19 20 21 22 23 24 25 26 27 28 29 30 31 32 33 34 35 36 37 38 39 40 41 42 43 44 45 46 47 48 49 50 51 52 53 54 55 56 57 58 59 60 61 62 63 64 65 66 67 68 69 70 71 72 73 74 75 76 77 78 79 80 81 82 83 84 85 86 87 88 89 90 91 92 93 94 95 96 97 98 99 100 101 102 103 104 105 106 107 108 109 110 111 112 113 114 115 116 117 118 119 120 121 122 123 124 125 126 127 128 129 130 131 132 133 134 135 136 137 138 139 140 141 142 143 144 145 146 147 148 149 150 151 152 153 154 155 156 157 158 159 160 161 162 163 164 165 166 167 168 169 170 171 172 173 174 175 176 177 178 179 180 181 182 183 184 185 186 187 188 189 190 191 192 193 194 195 196 197 198 199 200 201 202 203 204 205 206 207 208 209 210 211 212 213 214 215 216 217 218 219 220 221 222 223 224 225 226 227 228 229 230 231 232 233 234 235 236 237 238 239 240 241 242 243 244 245 246 247 248 249 250 251 252 253 254 255 256 257 258 259 260 261 262 263 264 265 266 267 268 269 270 271 272 273 274 275 276 277 278 279 280 281 282 283 284 285 286 287 288 289 290 291 292 293 294 295 296 297 298 299 Epoch, Loss - 1, 653.6715343\n",
      "Train -  0.987\n",
      "Test -  0.9869\n",
      "\n",
      "Epoch  2\n",
      "Mini-batch :  0 1 2 3 4 5 6 7 8 9 10 11 12 13 14 15 16 17 18 19 20 21 22 23 24 25 26 27 28 29 30 31 32 33 34 35 36 37 38 39 40 41 42 43 44 45 46 47 48 49 50 51 52 53 54 55 56 57 58 59 60 61 62 63 64 65 66 67 68 69 70 71 72 73 74 75 76 77 78 79 80 81 82 83 84 85 86 87 88 89 90 91 92 93 94 95 96 97 98 99 100 101 102 103 104 105 106 107 108 109 110 111 112 113 114 115 116 117 118 119 120 121 122 123 124 125 126 127 128 129 130 131 132 133 134 135 136 137 138 139 140 141 142 143 144 145 146 147 148 149 150 151 152 153 154 155 156 157 158 159 160 161 162 163 164 165 166 167 168 169 170 171 172 173 174 175 176 177 178 179 180 181 182 183 184 185 186 187 188 189 190 191 192 193 194 195 196 197 198 199 200 201 202 203 204 205 206 207 208 209 210 211 212 213 214 215 216 217 218 219 220 221 222 223 224 225 226 227 228 229 230 231 232 233 234 235 236 237 238 239 240 241 242 243 244 245 246 247 248 249 250 251 252 253 254 255 256 257 258 259 260 261 262 263 264 265 266 267 268 269 270 271 272 273 274 275 276 277 278 279 280 281 282 283 284 285 286 287 288 289 290 291 292 293 294 295 296 297 298 299 Epoch, Loss - 2, 652.95821476\n",
      "Train -  0.991\n",
      "Test -  0.9898\n",
      "\n",
      "Epoch  3\n",
      "Mini-batch :  0 1 2 3 4 5 6 7 8 9 10 11 12 13 14 15 16 17 18 19 20 21 22 23 24 25 26 27 28 29 30 31 32 33 34 35 36 37 38 39 40 41 42 43 44 45 46 47 48 49 50 51 52 53 54 55 56 57 58 59 60 61 62 63 64 65 66 67 68 69 70 71 72 73 74 75 76 77 78 79 80 81 82 83 84 85 86 87 88 89 90 91 92 93 94 95 96 97 98 99 100 101 102 103 104 105 106 107 108 109 110 111 112 113 114 115 116 117 118 119 120 121 122 123 124 125 126 127 128 129 130 131 132 133 134 135 136 137 138 139 140 141 142 143 144 145 146 147 148 149 150 151 152 153 154 155 156 157 158 159 160 161 162 163 164 165 166 167 168 169 170 171 172 173 174 175 176 177 178 179 180 181 182 183 184 185 186 187 188 189 190 191 192 193 194 195 196 197 198 199 200 201 202 203 204 205 206 207 208 209 210 211 212 213 214 215 216 217 218 219 220 221 222 223 224 225 226 227 228 229 230 231 232 233 234 235 236 237 238 239 240 241 242 243 244 245 246 247 248 249 250 251 252 253 254 255 256 257 258 259 260 261 262 263 264 265 266 267 268 269 270 271 272 273 274 275 276 277 278 279 280 281 282 283 284 285 286 287 288 289 290 291 292 293 294 295 296 297 298 299 Epoch, Loss - 3, 652.588626862\n",
      "Train -  0.993\n",
      "Test -  0.9909\n",
      "\n",
      "Epoch  4\n",
      "Mini-batch :  0 1 2 3 4 5 6 7 8 9 10 11 12 13 14 15 16 17 18 19 20 21 22 23 24"
     ]
    }
   ],
   "source": [
    "batch_size = 200\n",
    "epochs = 10  # should probably do a lot more.\n",
    "\n",
    "trn_acc = []\n",
    "tst_acc = []\n",
    "trn_loss = []\n",
    "\n",
    "for epoch in range(epochs):  # 50 epochs\n",
    "    print \"\\nEpoch \", epoch\n",
    "    \n",
    "    running_loss = 0.0\n",
    "    print \"Mini-batch : \", \n",
    "    for i in range(len(X_train)/batch_size):\n",
    "        print  i, \n",
    "        s = i*batch_size\n",
    "        e = i*batch_size+batch_size\n",
    "        \n",
    "        inputs = torch.from_numpy(X_train[s:e])\n",
    "        labels = torch.LongTensor(np.array(y_train[s:e]))\n",
    "                \n",
    "        # wrap them in Variable\n",
    "        inputs, labels = Variable(inputs.cuda(gpu)), Variable(labels.cuda(gpu))\n",
    "\n",
    "        # zero the parameter gradients\n",
    "        optimizer.zero_grad()\n",
    "\n",
    "        # forward + backward + optimize\n",
    "        outputs = net(inputs)\n",
    "        \n",
    "        loss = criterion(outputs, labels)\n",
    "        loss.backward()\n",
    "        \n",
    "        optimizer.step()\n",
    "        running_loss += loss.data[0]\n",
    "        \n",
    "        del inputs, labels\n",
    "    \n",
    "    # Training Info\n",
    "    trn_loss.append(running_loss)\n",
    "    trn_acc.append(evaluate(net, X_train[0:1000], y_train[0:1000], batch_size = 200)) #sorry, otherwise time consuming.\n",
    "    tst_acc.append(evaluate(net, X_test, y_test, 200)) \n",
    "    \n",
    "    print \"Epoch, Loss - {}, {}\".format(epoch, running_loss)\n",
    "    print \"Train - \", trn_acc[-1]\n",
    "    print \"Test - \", tst_acc[-1]"
   ]
  },
  {
   "cell_type": "code",
   "execution_count": null,
   "metadata": {
    "collapsed": true
   },
   "outputs": [],
   "source": [
    "plt.plot(range(0, epochs), trn_acc)\n",
    "plt.title('Training accuracy')\n",
    "plt.show()\n",
    "\n",
    "plt.plot(range(0, epochs), trn_loss)\n",
    "plt.title('Training loss')\n",
    "plt.show()\n",
    "\n",
    "plt.plot(range(0, epochs), tst_acc)\n",
    "plt.title('Testing accuracy')\n",
    "plt.show()"
   ]
  },
  {
   "cell_type": "code",
   "execution_count": null,
   "metadata": {
    "collapsed": true
   },
   "outputs": [],
   "source": []
  }
 ],
 "metadata": {
  "kernelspec": {
   "display_name": "Python 2",
   "language": "python",
   "name": "python2"
  },
  "language_info": {
   "codemirror_mode": {
    "name": "ipython",
    "version": 2
   },
   "file_extension": ".py",
   "mimetype": "text/x-python",
   "name": "python",
   "nbconvert_exporter": "python",
   "pygments_lexer": "ipython2",
   "version": "2.7.6"
  }
 },
 "nbformat": 4,
 "nbformat_minor": 0
}
