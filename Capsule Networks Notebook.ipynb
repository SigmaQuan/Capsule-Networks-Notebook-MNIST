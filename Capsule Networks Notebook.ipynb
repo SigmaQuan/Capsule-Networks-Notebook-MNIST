{
 "cells": [
  {
   "cell_type": "code",
   "execution_count": 1,
   "metadata": {
    "collapsed": false
   },
   "outputs": [],
   "source": [
    "\"\"\"\n",
    "Dynamic Routing Between Capsules\n",
    "https://arxiv.org/abs/1710.09829\n",
    "\n",
    "Heavily inspired from implementation by Kenta Iwasaki @ Gram.AI.\n",
    "\"\"\"\n",
    "\n",
    "import torch\n",
    "import torch.nn.functional as F\n",
    "from torch import nn\n",
    "from torch.autograd import Variable\n",
    "from torch.optim import Adam\n",
    "from torchvision.datasets.mnist import MNIST\n",
    "import numpy as np\n",
    "\n",
    "# Select which gpu you want, I have 3. Otherwise remove all .cuda from code\n",
    "gpu = 2"
   ]
  },
  {
   "cell_type": "markdown",
   "metadata": {},
   "source": [
    "Capsule Convolutional Layer"
   ]
  },
  {
   "cell_type": "code",
   "execution_count": 2,
   "metadata": {
    "collapsed": false
   },
   "outputs": [],
   "source": [
    "class ConvCaps2D(nn.Module):\n",
    "    def __init__(self):\n",
    "        super(ConvCaps2D, self).__init__()\n",
    "        self.capsules = nn.ModuleList([nn.Conv2d(in_channels = 256, out_channels = 8, kernel_size=9, stride=2)\n",
    "                                       for _ in range(32)])\n",
    "    def squash(self, tensor, dim=-1):\n",
    "        norm = (tensor**2).sum(dim=dim, keepdim = True) # norm.size() is (None, 1152, 1)\n",
    "        scale = norm / (1 + norm)        \n",
    "        return scale*tensor / torch.sqrt(norm)\n",
    "        \n",
    "    def forward(self, x):\n",
    "        outputs = [capsule(x).view(x.size(0), 8, -1) for capsule in self.capsules] # 32 list of (None, 1, 8, 36)\n",
    "        outputs = torch.cat(outputs, dim = 2).permute(0, 2, 1)  # outputs.size() is (None, 1152, 8)\n",
    "        return self.squash(outputs)"
   ]
  },
  {
   "cell_type": "markdown",
   "metadata": {},
   "source": [
    "DigitCaps Layer"
   ]
  },
  {
   "cell_type": "code",
   "execution_count": 3,
   "metadata": {
    "collapsed": false
   },
   "outputs": [],
   "source": [
    "class Caps1D(nn.Module):\n",
    "    def __init__(self):\n",
    "        super(Caps1D, self).__init__()\n",
    "        self.num_caps = 10\n",
    "        self.num_iterations = 3\n",
    "        self.routing_matrix = nn.Parameter(torch.randn(10, 1152, 8, 16))\n",
    "        \n",
    "    def softmax(self, x, dim = 1):\n",
    "        transposed_input = x.transpose(dim, len(x.size()) - 1)\n",
    "        softmaxed_output = F.softmax(transposed_input.contiguous().view(-1, transposed_input.size(-1)))\n",
    "        return softmaxed_output.view(*transposed_input.size()).transpose(dim, len(x.size()) - 1)\n",
    "\n",
    "    def squash(self, tensor, dim=-1):\n",
    "        norm = (tensor**2).sum(dim=dim, keepdim = True) # norm.size() is (None, 1152, 1)\n",
    "        scale = norm / (1 + norm)        \n",
    "        return scale*tensor / torch.sqrt(norm)\n",
    "    \n",
    "    def forward(self, x):\n",
    "        # x.size() is (None, 1152, 8)\n",
    "        '''\n",
    "        From documentation\n",
    "        For example, if tensor1 is a j x 1 x n x m Tensor and tensor2 is a k x m x p Tensor, \n",
    "        out will be an j x k x n x p Tensor.\n",
    "        \n",
    "        We need j = None, 1, n = 1152, k = 10, m = 8, p = 16\n",
    "        '''\n",
    "        b = torch.matmul(x[:, None, :, None, :], self.routing_matrix)\n",
    "        logits = Variable(torch.zeros(b.size())).cuda(gpu)\n",
    "        \n",
    "        for i in range(self.num_iterations):\n",
    "            probs = self.softmax(logits, dim=2)\n",
    "            outputs = self.squash((probs * b).sum(dim=2, keepdim=True))\n",
    "\n",
    "            if i != self.num_iterations - 1:\n",
    "                delta_logits = (b * outputs).sum(dim=-1, keepdim=True)\n",
    "                logits = logits + delta_logits\n",
    "\n",
    "        \n",
    "        outputs = outputs.squeeze()\n",
    "        classes = (outputs ** 2).sum(dim=-1) ** 0.5\n",
    "        classes = F.softmax(classes)\n",
    "        \n",
    "        return classes"
   ]
  },
  {
   "cell_type": "code",
   "execution_count": 4,
   "metadata": {
    "collapsed": false
   },
   "outputs": [],
   "source": [
    "class CapsNet(nn.Module):\n",
    "    def __init__(self):\n",
    "        super(CapsNet, self).__init__()\n",
    "        \n",
    "        self.conv1 = nn.Conv2d(in_channels = 1, out_channels = 256, kernel_size = 9, stride = 1)\n",
    "        \n",
    "        self.primaryCaps = ConvCaps2D()\n",
    "        self.digitCaps = Caps1D()\n",
    "        \n",
    "        \n",
    "    def forward(self, x):\n",
    "        x = F.relu(self.conv1(x))\n",
    "        x = self.primaryCaps(x)\n",
    "        x = self.digitCaps(x)\n",
    "        \n",
    "        return x\n",
    "\n",
    "net = CapsNet().cuda(gpu)\n",
    "# out = net.forward(Variable(torch.from_numpy(np.random.rand(32, 1, 28, 28).astype('float32')).cuda(gpu)))"
   ]
  },
  {
   "cell_type": "code",
   "execution_count": 5,
   "metadata": {
    "collapsed": true
   },
   "outputs": [],
   "source": [
    "import torch.optim as optim\n",
    "criterion = nn.CrossEntropyLoss()\n",
    "optimizer = optim.Adam(net.parameters())"
   ]
  },
  {
   "cell_type": "code",
   "execution_count": 6,
   "metadata": {
    "collapsed": true
   },
   "outputs": [],
   "source": [
    "def evaluate(model, X, Y, batch_size = 50):\n",
    "    results = []\n",
    "    predicted = []\n",
    "    \n",
    "    for i in range(len(X)/batch_size):\n",
    "        s = i*batch_size\n",
    "        e = i*batch_size+batch_size\n",
    "        \n",
    "        inputs = Variable(torch.from_numpy(X[s:e]).cuda(gpu))\n",
    "        pred = model(inputs)\n",
    "        \n",
    "        predicted += list(np.argmax(pred.data.cpu().numpy(), axis = 1))\n",
    "        \n",
    "    acc = sum(Y == predicted)*1.0/(len(Y))\n",
    "    return acc"
   ]
  },
  {
   "cell_type": "markdown",
   "metadata": {},
   "source": [
    "Load the data"
   ]
  },
  {
   "cell_type": "code",
   "execution_count": 7,
   "metadata": {
    "collapsed": false
   },
   "outputs": [],
   "source": [
    "dataset = MNIST(root='./data', download=True, train=True)\n",
    "\n",
    "X_train = np.expand_dims(getattr(dataset, 'train_data').numpy().astype('float32'), 1)/255.0\n",
    "y_train = getattr(dataset, 'train_labels').numpy().astype('int64')\n",
    "\n",
    "indices = np.random.permutation(len(X_train))\n",
    "X_train = X_train[indices]\n",
    "y_train = y_train[indices]\n",
    "\n",
    "dataset = MNIST(root='./data', download=True, train=False)\n",
    "\n",
    "X_test = np.expand_dims(getattr(dataset, 'test_data').numpy().astype('float32'), 1)/255.0\n",
    "y_test = getattr(dataset, 'test_labels').numpy().astype('int64')\n",
    "\n",
    "indices = np.random.permutation(len(X_test))\n",
    "X_test = X_test[indices]\n",
    "y_test = y_test[indices]"
   ]
  },
  {
   "cell_type": "code",
   "execution_count": null,
   "metadata": {
    "collapsed": false
   },
   "outputs": [
    {
     "name": "stdout",
     "output_type": "stream",
     "text": [
      "\n",
      "Epoch  0\n",
      "0 1 2 3 4 5 6 7 8 9 10 11 12 13 14 15 16 17 18 19 20 21 22 23 24 25 26 27 28 29 30 31 32 33 34 35 36 37 38 39 40 41 42 43 44 45 46 47 48 49 50 51 52 53 54 55 56 57 58 59 60 61 62 63 64 65 66 67 68 69 70 71 72 73 74 75 76 77 78 79 80 81 82 83 84 85 86 87 88 89 90 91 92 93 94 95 96 97 98 99 100 101 102"
     ]
    }
   ],
   "source": [
    "batch_size = 200\n",
    "\n",
    "for epoch in range(50):  # 50 epochs\n",
    "    print \"\\nEpoch \", epoch\n",
    "    \n",
    "    running_loss = 0.0\n",
    "    for i in range(len(X_train)/batch_size-1):\n",
    "        print i, \n",
    "        s = i*batch_size\n",
    "        e = i*batch_size+batch_size\n",
    "        \n",
    "        inputs = torch.from_numpy(X_train[s:e])\n",
    "        labels = torch.LongTensor(np.array(y_train[s:e]))\n",
    "        \n",
    "        \n",
    "        # wrap them in Variable\n",
    "        inputs, labels = Variable(inputs.cuda(gpu)), Variable(labels.cuda(gpu))\n",
    "\n",
    "        # zero the parameter gradients\n",
    "        optimizer.zero_grad()\n",
    "\n",
    "        # forward + backward + optimize\n",
    "        outputs = net(inputs)\n",
    "        \n",
    "        loss = criterion(outputs, labels)\n",
    "        loss.backward()\n",
    "        \n",
    "        optimizer.step()\n",
    "        running_loss += loss.data[0]\n",
    "        \n",
    "        del inputs, labels\n",
    "    \n",
    "    # Validation accuracy\n",
    "    print \"Epoch, Loss - {}, {}\".format(epoch, running_loss)\n",
    "    print \"Train - \", evaluate(net, X_train[0:1000], y_train[0:1000], batch_size = 100)\n",
    "    print \"Test - \", evaluate(net, X_test, y_test, 100)"
   ]
  },
  {
   "cell_type": "code",
   "execution_count": null,
   "metadata": {
    "collapsed": true
   },
   "outputs": [],
   "source": []
  }
 ],
 "metadata": {
  "kernelspec": {
   "display_name": "Python 2",
   "language": "python",
   "name": "python2"
  },
  "language_info": {
   "codemirror_mode": {
    "name": "ipython",
    "version": 2
   },
   "file_extension": ".py",
   "mimetype": "text/x-python",
   "name": "python",
   "nbconvert_exporter": "python",
   "pygments_lexer": "ipython2",
   "version": "2.7.6"
  }
 },
 "nbformat": 4,
 "nbformat_minor": 0
}
